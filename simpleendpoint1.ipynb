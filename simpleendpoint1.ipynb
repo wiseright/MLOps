{
 "cells": [
  {
   "cell_type": "code",
   "execution_count": 2,
   "id": "d2a813e4",
   "metadata": {
    "tags": []
   },
   "outputs": [
    {
     "name": "stdout",
     "output_type": "stream",
     "text": [
      "Using bucket sagemaker-us-east-1-827713284860\n"
     ]
    }
   ],
   "source": [
    "import datetime\n",
    "import time\n",
    "import tarfile\n",
    "\n",
    "import boto3\n",
    "import pandas as pd\n",
    "import numpy as np\n",
    "from sagemaker import get_execution_role\n",
    "import sagemaker\n",
    "from sklearn.model_selection import train_test_split\n",
    "from sklearn.datasets import load_boston\n",
    "\n",
    "\n",
    "sm_boto3 = boto3.client(\"sagemaker\")\n",
    "\n",
    "sess = sagemaker.Session()\n",
    "\n",
    "region = sess.boto_session.region_name\n",
    "\n",
    "bucket = sess.default_bucket()  # this could also be a hard-coded bucket name\n",
    "\n",
    "print(\"Using bucket \" + bucket)\n",
    "\n"
   ]
  },
  {
   "cell_type": "code",
   "execution_count": 3,
   "id": "4c49c4ce",
   "metadata": {
    "tags": []
   },
   "outputs": [],
   "source": [
    "# we use the Boston housing dataset\n",
    "data = load_boston()"
   ]
  },
  {
   "cell_type": "code",
   "execution_count": 4,
   "id": "a8b55455",
   "metadata": {
    "tags": []
   },
   "outputs": [],
   "source": [
    "X_train, X_test, y_train, y_test = train_test_split(\n",
    "    data.data, data.target, test_size=0.25, random_state=42\n",
    ")\n",
    "\n",
    "trainX = pd.DataFrame(X_train, columns=data.feature_names)\n",
    "trainX[\"target\"] = y_train\n",
    "\n",
    "testX = pd.DataFrame(X_test, columns=data.feature_names)\n",
    "testX[\"target\"] = y_test\n",
    "\n"
   ]
  },
  {
   "cell_type": "code",
   "execution_count": 5,
   "id": "774d1dc1",
   "metadata": {
    "tags": []
   },
   "outputs": [],
   "source": [
    "trainX.head()\n",
    "\n",
    "trainX.to_csv(\"boston_train.csv\")\n",
    "testX.to_csv(\"boston_test.csv\")\n",
    "\n",
    "# send data to S3. SageMaker will take training data from s3\n",
    "trainpath = sess.upload_data(\n",
    "    path=\"boston_train.csv\", bucket=bucket, key_prefix=\"sagemaker/sklearncontainer\"\n",
    ")\n",
    "\n",
    "testpath = sess.upload_data(\n",
    "    path=\"boston_test.csv\", bucket=bucket, key_prefix=\"sagemaker/sklearncontainer\"\n",
    ")\n",
    "\n"
   ]
  },
  {
   "cell_type": "code",
   "execution_count": 6,
   "id": "bc35876e",
   "metadata": {
    "tags": []
   },
   "outputs": [
    {
     "name": "stdout",
     "output_type": "stream",
     "text": [
      "Writing script.py\n"
     ]
    }
   ],
   "source": [
    "%%writefile script.py\n",
    "\n",
    "import argparse\n",
    "import joblib\n",
    "import os\n",
    "\n",
    "import numpy as np\n",
    "import pandas as pd\n",
    "from sklearn.ensemble import RandomForestRegressor\n",
    "\n",
    "\n",
    "# inference functions ---------------\n",
    "def model_fn(model_dir):\n",
    "    clf = joblib.load(os.path.join(model_dir, \"model.joblib\"))\n",
    "    return clf\n",
    "\n",
    "\n",
    "if __name__ == \"__main__\":\n",
    "\n",
    "    print(\"extracting arguments\")\n",
    "    parser = argparse.ArgumentParser()\n",
    "\n",
    "    # hyperparameters sent by the client are passed as command-line arguments to the script.\n",
    "    # to simplify the demo we don't use all sklearn RandomForest hyperparameters\n",
    "    parser.add_argument(\"--n-estimators\", type=int, default=10)\n",
    "    parser.add_argument(\"--min-samples-leaf\", type=int, default=3)\n",
    "\n",
    "    # Data, model, and output directories\n",
    "    parser.add_argument(\"--model-dir\", type=str, default=os.environ.get(\"SM_MODEL_DIR\"))\n",
    "    parser.add_argument(\"--train\", type=str, default=os.environ.get(\"SM_CHANNEL_TRAIN\"))\n",
    "    parser.add_argument(\"--test\", type=str, default=os.environ.get(\"SM_CHANNEL_TEST\"))\n",
    "    parser.add_argument(\"--train-file\", type=str, default=\"boston_train.csv\")\n",
    "    parser.add_argument(\"--test-file\", type=str, default=\"boston_test.csv\")\n",
    "    parser.add_argument(\n",
    "        \"--features\", type=str\n",
    "    )  # in this script we ask user to explicitly name features\n",
    "    parser.add_argument(\n",
    "        \"--target\", type=str\n",
    "    )  # in this script we ask user to explicitly name the target\n",
    "\n",
    "    args, _ = parser.parse_known_args()\n",
    "\n",
    "    print(\"reading data\")\n",
    "    train_df = pd.read_csv(os.path.join(args.train, args.train_file))\n",
    "    test_df = pd.read_csv(os.path.join(args.test, args.test_file))\n",
    "\n",
    "    print(\"building training and testing datasets\")\n",
    "    X_train = train_df[args.features.split()]\n",
    "    X_test = test_df[args.features.split()]\n",
    "    y_train = train_df[args.target]\n",
    "    y_test = test_df[args.target]\n",
    "\n",
    "    # train\n",
    "    print(\"training model\")\n",
    "    model = RandomForestRegressor(\n",
    "        n_estimators=args.n_estimators, min_samples_leaf=args.min_samples_leaf, n_jobs=-1\n",
    "    )\n",
    "\n",
    "    model.fit(X_train, y_train)\n",
    "\n",
    "    # print abs error\n",
    "    print(\"validating model\")\n",
    "    abs_err = np.abs(model.predict(X_test) - y_test)\n",
    "\n",
    "    # print couple perf metrics\n",
    "    for q in [10, 50, 90]:\n",
    "        print(\"AE-at-\" + str(q) + \"th-percentile: \" + str(np.percentile(a=abs_err, q=q)))\n",
    "\n",
    "    # persist model\n",
    "    path = os.path.join(args.model_dir, \"model.joblib\")\n",
    "    joblib.dump(model, path)\n",
    "    print(\"model persisted at \" + path)\n",
    "    print(args.min_samples_leaf)\n",
    "\n"
   ]
  },
  {
   "cell_type": "code",
   "execution_count": 7,
   "id": "951e9f4f",
   "metadata": {
    "tags": []
   },
   "outputs": [
    {
     "name": "stdout",
     "output_type": "stream",
     "text": [
      "extracting arguments\n",
      "reading data\n",
      "building training and testing datasets\n",
      "training model\n",
      "validating model\n",
      "AE-at-10th-percentile: 0.27305738095238324\n",
      "AE-at-50th-percentile: 1.5763249999999989\n",
      "AE-at-90th-percentile: 4.497606904761905\n",
      "model persisted at ./model.joblib\n",
      "2\n"
     ]
    }
   ],
   "source": [
    "! python script.py --n-estimators 100 \\\n",
    "                   --min-samples-leaf 2 \\\n",
    "                   --model-dir ./ \\\n",
    "                   --train ./ \\\n",
    "                   --test ./ \\\n",
    "                   --features 'CRIM ZN INDUS CHAS NOX RM AGE DIS RAD TAX PTRATIO B LSTAT' \\\n",
    "                   --target target"
   ]
  },
  {
   "cell_type": "code",
   "execution_count": 9,
   "id": "c02d2993",
   "metadata": {
    "tags": []
   },
   "outputs": [
    {
     "name": "stdout",
     "output_type": "stream",
     "text": [
      "0.6390290900001219\n"
     ]
    }
   ],
   "source": [
    "# We use the Estimator from the SageMaker Python SDK\n",
    "from sagemaker.sklearn.estimator import SKLearn\n",
    "\n",
    "FRAMEWORK_VERSION = \"0.23-1\"\n",
    "\n",
    "sklearn_estimator = SKLearn(\n",
    "    entry_point=\"script.py\",\n",
    "    role=get_execution_role(),\n",
    "    instance_count=1,\n",
    "    instance_type=\"ml.m4.xlarge\",#\"ml.c5.xlarge\",#\"ml.m4.xlarge\",\n",
    "    framework_version=FRAMEWORK_VERSION,\n",
    "    base_job_name=\"rf-scikit\",\n",
    "    metric_definitions=[{\"Name\": \"median-AE\", \"Regex\": \"AE-at-50th-percentile: ([0-9.]+).*$\"}],\n",
    "    hyperparameters={\n",
    "        \"n-estimators\": 100,\n",
    "        \"min-samples-leaf\": 3,\n",
    "        \"features\": \"CRIM ZN INDUS CHAS NOX RM AGE DIS RAD TAX PTRATIO B LSTAT\",\n",
    "        \"target\": \"target\",\n",
    "    },\n",
    ")\n",
    "\n",
    "import time\n",
    "tic = time.perf_counter()\n",
    "\n",
    "# launch training job, with asynchronous call\n",
    "sklearn_estimator.fit({\"train\": trainpath, \"test\": testpath}, wait=False)\n",
    "\n",
    "toc = time.perf_counter()\n",
    "print(toc - tic)"
   ]
  },
  {
   "cell_type": "code",
   "execution_count": 10,
   "id": "bbec8063-7ab8-470e-aa95-60688b9be727",
   "metadata": {
    "tags": []
   },
   "outputs": [
    {
     "name": "stdout",
     "output_type": "stream",
     "text": [
      "\n",
      "2023-02-05 17:40:52 Starting - Preparing the instances for training...............\n",
      "2023-02-05 17:42:19 Downloading - Downloading input data.....\n",
      "2023-02-05 17:42:49 Training - Downloading the training image......\n",
      "2023-02-05 17:43:25 Training - Training image download completed. Training in progress.....\n",
      "2023-02-05 17:43:45 Uploading - Uploading generated training model.\n",
      "2023-02-05 17:43:57 Completed - Training job completed\n",
      "Model artifact persisted at s3://sagemaker-us-east-1-827713284860/rf-scikit-2023-02-05-17-40-26-075/output/model.tar.gz\n"
     ]
    }
   ],
   "source": [
    "sklearn_estimator.latest_training_job.wait(logs=\"None\")\n",
    "artifact = sm_boto3.describe_training_job(\n",
    "    TrainingJobName=sklearn_estimator.latest_training_job.name\n",
    ")[\"ModelArtifacts\"][\"S3ModelArtifacts\"]\n",
    "\n",
    "print(\"Model artifact persisted at \" + artifact)"
   ]
  },
  {
   "cell_type": "code",
   "execution_count": 11,
   "id": "b7f115b4",
   "metadata": {
    "tags": []
   },
   "outputs": [
    {
     "name": "stdout",
     "output_type": "stream",
     "text": [
      "----!"
     ]
    }
   ],
   "source": [
    "from sagemaker.sklearn.model import SKLearnModel\n",
    "\n",
    "model = SKLearnModel(\n",
    "    model_data=artifact,\n",
    "    role=get_execution_role(),\n",
    "    entry_point=\"script.py\",\n",
    "    framework_version=FRAMEWORK_VERSION,\n",
    ")\n",
    "\n",
    "predictor = model.deploy(instance_type=\"ml.c5.large\", initial_instance_count=1)\n",
    "\n"
   ]
  },
  {
   "cell_type": "code",
   "execution_count": 13,
   "id": "0daa70a3-c841-4c30-ab6b-912ebc56169b",
   "metadata": {
    "tags": []
   },
   "outputs": [],
   "source": [
    "df_test = pd.read_csv('boston_test.csv')"
   ]
  },
  {
   "cell_type": "code",
   "execution_count": 17,
   "id": "b88dae04-7833-4bed-9678-74403c65c733",
   "metadata": {
    "tags": []
   },
   "outputs": [
    {
     "name": "stdout",
     "output_type": "stream",
     "text": [
      "<class 'pandas.core.frame.DataFrame'>\n",
      "RangeIndex: 127 entries, 0 to 126\n",
      "Data columns (total 15 columns):\n",
      " #   Column      Non-Null Count  Dtype  \n",
      "---  ------      --------------  -----  \n",
      " 0   Unnamed: 0  127 non-null    int64  \n",
      " 1   CRIM        127 non-null    float64\n",
      " 2   ZN          127 non-null    float64\n",
      " 3   INDUS       127 non-null    float64\n",
      " 4   CHAS        127 non-null    float64\n",
      " 5   NOX         127 non-null    float64\n",
      " 6   RM          127 non-null    float64\n",
      " 7   AGE         127 non-null    float64\n",
      " 8   DIS         127 non-null    float64\n",
      " 9   RAD         127 non-null    float64\n",
      " 10  TAX         127 non-null    float64\n",
      " 11  PTRATIO     127 non-null    float64\n",
      " 12  B           127 non-null    float64\n",
      " 13  LSTAT       127 non-null    float64\n",
      " 14  target      127 non-null    float64\n",
      "dtypes: float64(14), int64(1)\n",
      "memory usage: 15.0 KB\n"
     ]
    }
   ],
   "source": [
    "df_test.info()"
   ]
  },
  {
   "cell_type": "code",
   "execution_count": 23,
   "id": "6c78be1a-8736-412c-b101-cf3f635c1a26",
   "metadata": {
    "tags": []
   },
   "outputs": [
    {
     "data": {
      "text/plain": [
       "Index(['CRIM', 'ZN', 'INDUS', 'CHAS', 'NOX', 'RM', 'AGE', 'DIS', 'RAD', 'TAX',\n",
       "       'PTRATIO', 'B', 'LSTAT'],\n",
       "      dtype='object')"
      ]
     },
     "execution_count": 23,
     "metadata": {},
     "output_type": "execute_result"
    }
   ],
   "source": [
    "df_test.keys()[1:-1]"
   ]
  },
  {
   "cell_type": "code",
   "execution_count": 25,
   "id": "7029086b-9513-411a-ad39-c6f98eb63b07",
   "metadata": {
    "tags": []
   },
   "outputs": [
    {
     "data": {
      "text/plain": [
       "CRIM         0.09178\n",
       "ZN           0.00000\n",
       "INDUS        4.05000\n",
       "CHAS         0.00000\n",
       "NOX          0.51000\n",
       "RM           6.41600\n",
       "AGE         84.10000\n",
       "DIS          2.64630\n",
       "RAD          5.00000\n",
       "TAX        296.00000\n",
       "PTRATIO     16.60000\n",
       "B          395.50000\n",
       "LSTAT        9.04000\n",
       "Name: 0, dtype: float64"
      ]
     },
     "execution_count": 25,
     "metadata": {},
     "output_type": "execute_result"
    }
   ],
   "source": [
    "df_test[df_test.keys()[1:-1]].iloc[0]\n",
    "#df_test[['CRIM, ZN, INDUS, CHAS, NOX, RM, AGE, DIS, RAD, TAX, PTRATIO, B, LSTAT,']].iloc[0]"
   ]
  },
  {
   "cell_type": "code",
   "execution_count": 42,
   "id": "6ad5d839-7238-48a8-b42a-68eaa713d6dd",
   "metadata": {
    "tags": []
   },
   "outputs": [],
   "source": [
    "random_index = np.random.randint(1,df_test.shape[0],10)>"
   ]
  },
  {
   "cell_type": "code",
   "execution_count": 45,
   "id": "17bbdc80-6646-4b7d-ae86-0ed828e9e1d0",
   "metadata": {
    "tags": []
   },
   "outputs": [],
   "source": [
    "batch_sample = df_test[df_test.keys()[1:-1]].iloc[random_index].to_numpy()"
   ]
  },
  {
   "cell_type": "code",
   "execution_count": 46,
   "id": "3266cdc6-ee73-454e-8f75-00d31f8de993",
   "metadata": {
    "tags": []
   },
   "outputs": [
    {
     "data": {
      "text/plain": [
       "(10, 13)"
      ]
     },
     "execution_count": 46,
     "metadata": {},
     "output_type": "execute_result"
    }
   ],
   "source": [
    "batch_sample.shape"
   ]
  },
  {
   "cell_type": "code",
   "execution_count": 47,
   "id": "d0d2bce6-4f8b-4bc6-a8be-07da5d2bd0fa",
   "metadata": {
    "tags": []
   },
   "outputs": [
    {
     "data": {
      "text/plain": [
       "array([22.18369968, 12.14249722, 29.42746436, 45.4434333 , 20.31611522,\n",
       "       28.86040675, 27.09973929, 17.77245902, 30.27263081, 32.23756905])"
      ]
     },
     "execution_count": 47,
     "metadata": {},
     "output_type": "execute_result"
    }
   ],
   "source": [
    "predictor.predict(batch_sample)"
   ]
  },
  {
   "cell_type": "code",
   "execution_count": 49,
   "id": "5d67353e-edf3-4d97-b649-2d9a0612edfa",
   "metadata": {
    "tags": []
   },
   "outputs": [
    {
     "name": "stdout",
     "output_type": "stream",
     "text": [
      "Prediction[24.06448526 15.40668283]\n",
      "Prediction[23.5769833 16.2932645]\n",
      "Prediction[25.62441865 15.7027446 ]\n",
      "Prediction[23.35320999 24.36397392]\n",
      "Prediction[21.99052288 25.60333254]\n",
      "Prediction[19.05345076 28.86040675]\n",
      "Prediction[20.52581587 20.52581587]\n",
      "Prediction[18.41432796 30.75194614]\n",
      "Prediction[22.27977343 12.68736136]\n",
      "Prediction[22.18369968 20.13417781]\n",
      "Prediction[20.43824491 21.18750458]\n",
      "Prediction[ 7.60912381 15.7027446 ]\n",
      "Prediction[30.75194614 14.34389892]\n",
      "Prediction[30.75194614 25.15943734]\n",
      "Prediction[17.77245902 17.77245902]\n",
      "Prediction[23.37949197 21.72177995]\n",
      "Prediction[44.91840827 21.13879416]\n",
      "Prediction[20.43824491 19.62208279]\n",
      "Prediction[19.70493712 17.4381631 ]\n",
      "Prediction[30.75194614 14.8017823 ]\n",
      "Prediction[12.68736136 16.58506383]\n",
      "Prediction[26.83569722 13.89277627]\n",
      "Prediction[19.49479748 19.97697817]\n",
      "Prediction[21.12890945 23.54087433]\n",
      "Prediction[23.61554571 10.11048334]\n",
      "Prediction[ 9.09670833 19.97697817]\n",
      "Prediction[21.12854841 21.18750458]\n",
      "Prediction[ 8.51434063 19.96238373]\n",
      "Prediction[21.12890945 34.22130299]\n",
      "Prediction[45.40638446 31.01577143]\n",
      "Prediction[19.51090927 21.77005582]\n",
      "Prediction[19.70493712 15.76801581]\n",
      "Prediction[21.60408795 12.2480569 ]\n",
      "Prediction[ 8.51434063 24.36397392]\n",
      "Prediction[29.42746436 21.99052288]\n",
      "Prediction[ 8.51434063 24.06448526]\n",
      "Prediction[12.68563597 21.12854841]\n",
      "Prediction[19.05345076 17.11280115]\n",
      "Prediction[16.08875339 19.96238373]\n",
      "Prediction[18.55795076 21.99052288]\n",
      "Prediction[20.4422807  19.05345076]\n",
      "Prediction[44.95697493 24.06448526]\n",
      "Prediction[ 9.09670833 19.72032525]\n",
      "Prediction[12.68736136 21.12890945]\n",
      "Prediction[19.7580053  18.55795076]\n",
      "Prediction[18.34850001 22.28146984]\n",
      "Prediction[ 9.09670833 21.14317814]\n",
      "Prediction[23.78294224 11.77880952]\n",
      "Prediction[18.34850001 21.68172655]\n",
      "Prediction[19.91257157 31.19789008]\n",
      "Prediction[23.61554571 22.76493039]\n",
      "Prediction[42.31478824 24.23704683]\n",
      "Prediction[30.27263081 14.30950851]\n",
      "Prediction[11.35236501 31.01577143]\n",
      "Prediction[23.37949197 21.14317814]\n",
      "Prediction[15.07375209 22.76493039]\n",
      "Prediction[21.77005582 23.34467905]\n",
      "Prediction[20.43824491 29.42746436]\n",
      "Prediction[19.96238373 34.22130299]\n",
      "Prediction[23.9769338  23.61554571]\n",
      "Prediction[15.67427817 34.22130299]\n",
      "Prediction[22.18369968 19.7580053 ]\n",
      "Prediction[19.14668755 19.72032525]\n",
      "Prediction[19.49479748 33.83757738]\n",
      "Prediction[19.7580053  14.39237061]\n",
      "Prediction[20.31611522 19.96238373]\n",
      "Prediction[19.19800848 12.68736136]\n",
      "Prediction[17.4381631  21.13879416]\n",
      "Prediction[24.72351923 19.19800848]\n",
      "Prediction[23.5769833   7.60912381]\n",
      "Prediction[24.23704683 14.16733203]\n",
      "Prediction[20.43824491 19.7580053 ]\n",
      "Prediction[27.86903968 22.92126544]\n",
      "Prediction[23.37949197 24.06448526]\n",
      "Prediction[19.97697817 14.8017823 ]\n",
      "Prediction[27.86903968 34.22130299]\n",
      "Prediction[23.9769338   8.17388427]\n",
      "Prediction[12.68563597 24.23704683]\n",
      "Prediction[24.72351923 14.34389892]\n",
      "Prediction[24.00163117 22.18369968]\n",
      "Prediction[19.51090927 19.97697817]\n",
      "Prediction[24.00163117 21.60408795]\n",
      "Prediction[ 8.01300144 12.2480569 ]\n",
      "Prediction[16.2932645  24.36397392]\n",
      "Prediction[11.35485214 21.60408795]\n",
      "Prediction[19.7580053  12.68563597]\n",
      "Prediction[23.37949197 31.19789008]\n",
      "Prediction[21.68172655 23.54087433]\n",
      "Prediction[15.76801581 22.6196434 ]\n",
      "Prediction[14.30950851 28.86040675]\n",
      "Prediction[19.40432666 12.14249722]\n",
      "Prediction[21.60408795 33.83757738]\n",
      "Prediction[21.12854841 31.01577143]\n",
      "Prediction[21.77005582 19.40432666]\n",
      "Prediction[34.22130299 31.19789008]\n",
      "Prediction[23.34467905 15.7097631 ]\n",
      "Prediction[21.14317814 45.4434333 ]\n",
      "Prediction[19.72032525 17.4381631 ]\n",
      "Prediction[27.09973929 12.2480569 ]\n",
      "Prediction[22.28146984 20.96629441]\n",
      "Prediction[ 8.51434063 14.16733203]\n",
      "Prediction[15.40668283 14.16733203]\n",
      "Prediction[20.4422807  28.86040675]\n",
      "Prediction[22.92126544 22.6196434 ]\n",
      "Prediction[42.31478824 27.86903968]\n",
      "Prediction[19.97697817 26.83569722]\n",
      "Prediction[15.07375209 23.9769338 ]\n",
      "Prediction[42.31478824 12.68736136]\n",
      "Prediction[15.67427817 20.71009661]\n",
      "Prediction[19.49479748 23.90357785]\n",
      "Prediction[ 8.51434063 23.5769833 ]\n",
      "Prediction[24.00163117 23.72480429]\n",
      "Prediction[ 8.5851947  20.13417781]\n",
      "Prediction[21.68172655  8.5851947 ]\n",
      "Prediction[12.14249722 45.40638446]\n",
      "Prediction[22.76493039 23.9769338 ]\n",
      "Prediction[27.62670065 20.96629441]\n",
      "Prediction[12.68736136 44.95697493]\n",
      "Prediction[11.77880952 27.86903968]\n",
      "Prediction[20.43824491 19.62208279]\n",
      "Prediction[32.23756905 19.91257157]\n",
      "Prediction[19.97697817 23.5769833 ]\n",
      "Prediction[21.13879416 18.55795076]\n",
      "Prediction[19.51090927 15.07375209]\n",
      "Prediction[35.14791591 16.2932645 ]\n",
      "Prediction[14.30950851 22.6196434 ]\n",
      "Prediction[25.15943734 17.4381631 ]\n",
      "Prediction[17.11280115 12.14249722]\n",
      "Prediction[20.71009661 21.13879416]\n",
      "Prediction[23.37949197 44.95697493]\n",
      "Prediction[20.31611522 16.2932645 ]\n",
      "Prediction[11.77880952 22.18369968]\n",
      "Prediction[ 9.09670833 23.37949197]\n",
      "Prediction[20.52581587 13.69386043]\n",
      "Prediction[20.77568362 24.00163117]\n",
      "Prediction[19.62208279  8.64051389]\n",
      "Prediction[45.4434333  24.23704683]\n",
      "Prediction[29.12414297 15.33052592]\n",
      "Prediction[23.54087433  8.64051389]\n",
      "Prediction[22.92126544 23.34467905]\n",
      "Prediction[23.5769833  21.12854841]\n",
      "Prediction[ 7.60912381 34.22130299]\n",
      "Prediction[14.39237061 24.22733389]\n",
      "Prediction[24.23704683 11.35236501]\n",
      "Prediction[ 8.17388427 27.09973929]\n",
      "Prediction[25.62441865 27.09973929]\n",
      "Prediction[16.2932645  11.35485214]\n",
      "Prediction[23.61554571 19.83871014]\n",
      "Prediction[ 8.01300144 18.51439614]\n",
      "Prediction[20.96629441 29.42746436]\n",
      "Prediction[24.22733389 16.2932645 ]\n",
      "Prediction[17.11280115 16.2932645 ]\n",
      "Prediction[24.06448526 17.4381631 ]\n",
      "Prediction[23.78294224 20.77568362]\n",
      "Prediction[23.37949197 16.58506383]\n",
      "Prediction[24.00163117 17.77245902]\n",
      "Prediction[15.7097631  12.68563597]\n",
      "Prediction[15.81136277 21.68172655]\n",
      "Prediction[21.77005582 11.77880952]\n",
      "Prediction[17.11280115  9.09670833]\n",
      "Prediction[19.62208279 44.95697493]\n",
      "Prediction[23.9769338  8.5851947]\n",
      "Prediction[19.96238373 23.78294224]\n",
      "Prediction[23.54087433 19.72032525]\n",
      "Prediction[8.51434063 7.60912381]\n",
      "Prediction[21.13879416 14.16733203]\n",
      "Prediction[14.34389892 21.68172655]\n",
      "Prediction[ 8.01300144 27.09973929]\n",
      "Prediction[22.76493039 19.51090927]\n",
      "Prediction[14.34389892 12.68563597]\n",
      "Prediction[24.22733389 18.51439614]\n",
      "Prediction[ 8.5851947  20.13417781]\n",
      "Prediction[16.59485925 23.87241151]\n",
      "Prediction[30.75194614 12.2480569 ]\n",
      "Prediction[35.14791591 19.30305061]\n",
      "Prediction[18.41432796 18.41432796]\n",
      "Prediction[23.35320999 23.34467905]\n",
      "Prediction[23.54087433 24.00163117]\n",
      "Prediction[31.19789008 21.53001937]\n",
      "Prediction[22.76493039 21.12854841]\n",
      "Prediction[18.41432796 18.34850001]\n",
      "Prediction[19.14433175 20.43824491]\n",
      "Prediction[29.42746436 34.22130299]\n",
      "Prediction[20.77568362 23.61554571]\n",
      "Prediction[19.30305061 23.9769338 ]\n",
      "Prediction[29.42746436 21.60408795]\n",
      "Prediction[45.4434333  21.18750458]\n",
      "Prediction[21.99052288 21.99052288]\n",
      "Prediction[15.67427817  8.51434063]\n",
      "Prediction[23.35320999 35.14791591]\n",
      "Prediction[45.40638446 13.89277627]\n",
      "Prediction[27.09973929  8.01300144]\n",
      "Prediction[17.77245902 17.77245902]\n",
      "Prediction[32.23756905 20.52581587]\n",
      "Prediction[11.35236501 19.30305061]\n",
      "Prediction[19.05345076 28.86040675]\n",
      "Prediction[13.69386043 25.62441865]\n",
      "Prediction[20.13417781 24.72351923]\n",
      "Prediction[16.2932645  19.49479748]\n",
      "Prediction[22.28146984 27.86903968]\n",
      "Prediction[ 8.01300144 24.22733389]\n",
      "Prediction[16.2932645  21.77005582]\n",
      "Prediction[21.72177995  8.17388427]\n",
      "Prediction[14.16733203 45.40638446]\n",
      "Prediction[ 8.01300144 17.11280115]\n",
      "Prediction[21.18750458 20.43824491]\n",
      "Prediction[20.49100988 20.43824491]\n",
      "Prediction[20.31611522 19.83871014]\n",
      "Prediction[24.36397392 44.91840827]\n",
      "Prediction[11.35236501 19.30305061]\n",
      "Prediction[13.89277627  9.09670833]\n",
      "Prediction[ 7.60912381 16.58506383]\n",
      "Prediction[18.51439614 19.62208279]\n",
      "Prediction[21.46717551 20.71009661]\n",
      "Prediction[23.61554571 45.40638446]\n",
      "Prediction[42.31478824 23.34467905]\n",
      "Prediction[20.13417781 21.53001937]\n",
      "Prediction[24.36397392 20.13417781]\n",
      "Prediction[21.18750458 15.81136277]\n",
      "Prediction[16.2932645  19.70493712]\n",
      "Prediction[21.12854841 19.51090927]\n",
      "Prediction[42.31478824 45.4434333 ]\n",
      "Prediction[14.96226273 20.52581587]\n",
      "Prediction[23.90357785 12.14249722]\n",
      "Prediction[19.40432666 22.6196434 ]\n",
      "Prediction[16.08875339 16.58506383]\n",
      "Prediction[29.12414297 29.42746436]\n",
      "Prediction[14.96226273 27.62670065]\n",
      "Prediction[42.31478824 19.91257157]\n",
      "Prediction[21.99052288 16.2932645 ]\n",
      "Prediction[15.07375209 14.30950851]\n",
      "Prediction[44.91840827 24.22733389]\n",
      "Prediction[13.69386043  8.64051389]\n",
      "Prediction[ 9.09670833 19.05345076]\n",
      "Prediction[15.76801581 14.16733203]\n",
      "Prediction[22.92126544 20.52581587]\n",
      "Prediction[19.40432666 15.7027446 ]\n",
      "Prediction[14.39237061 31.01577143]\n",
      "Prediction[20.31611522  8.64051389]\n",
      "Prediction[19.7580053  11.35236501]\n",
      "Prediction[18.55795076 21.18750458]\n",
      "Prediction[23.72480429 11.77880952]\n",
      "Prediction[30.27263081 21.12854841]\n",
      "Prediction[45.4434333  23.78294224]\n",
      "Prediction[20.13417781 21.13879416]\n",
      "Prediction[11.77880952 35.14791591]\n",
      "Prediction[23.37949197  8.5851947 ]\n",
      "Prediction[11.35236501 24.23704683]\n",
      "Prediction[18.55795076 21.18750458]\n",
      "Prediction[21.12890945 23.34467905]\n",
      "Prediction[21.77005582 22.6196434 ]\n",
      "Prediction[ 8.01300144 21.77005582]\n",
      "Prediction[19.14668755 23.54087433]\n",
      "Prediction[8.64051389 8.01300144]\n",
      "Prediction[25.60333254 25.15943734]\n",
      "Prediction[23.34467905 15.7097631 ]\n",
      "Prediction[21.72177995 19.96238373]\n",
      "Prediction[19.91257157 24.36397392]\n",
      "Prediction[31.01577143 17.77245902]\n",
      "Prediction[32.23756905 45.40638446]\n",
      "Prediction[15.7097631  20.52581587]\n",
      "Prediction[24.06448526 24.22733389]\n",
      "Prediction[42.31478824 15.81136277]\n",
      "Prediction[ 8.01300144 12.14249722]\n",
      "Prediction[ 8.51434063 24.00163117]\n",
      "Prediction[21.18750458 17.77245902]\n",
      "Prediction[12.68736136 16.58506383]\n",
      "Prediction[24.72351923 19.40432666]\n",
      "Prediction[31.01577143 20.31611522]\n",
      "Prediction[20.43824491 15.67427817]\n",
      "Prediction[12.14249722 19.40432666]\n",
      "Prediction[23.5769833  19.72032525]\n",
      "Prediction[19.62208279 23.61554571]\n",
      "Prediction[42.31478824 14.16733203]\n",
      "Prediction[20.43824491 23.35320999]\n",
      "Prediction[21.12854841 16.08875339]\n",
      "Prediction[18.51439614 24.72351923]\n",
      "Prediction[29.42746436  8.17388427]\n",
      "Prediction[8.17388427 9.09670833]\n",
      "Prediction[15.7027446  12.14249722]\n",
      "Prediction[27.62670065 22.28146984]\n",
      "Prediction[15.40668283 19.97697817]\n",
      "Prediction[11.77880952 20.4422807 ]\n",
      "Prediction[25.15943734 23.61554571]\n",
      "Prediction[23.20307332 27.86903968]\n",
      "Prediction[23.20307332 23.72480429]\n",
      "Prediction[17.77245902 17.4381631 ]\n",
      "Prediction[23.35320999 23.9769338 ]\n",
      "Prediction[22.28146984 18.41432796]\n",
      "Prediction[20.13417781 19.62208279]\n",
      "Prediction[19.70493712 26.83569722]\n",
      "Prediction[33.83757738 21.13879416]\n",
      "Prediction[18.34850001 27.62670065]\n",
      "Prediction[17.11280115 17.4381631 ]\n",
      "Prediction[20.77568362 19.70493712]\n",
      "Prediction[25.60333254 24.23704683]\n",
      "Prediction[12.14249722 25.15943734]\n",
      "Prediction[18.55795076  8.64051389]\n",
      "Prediction[28.86040675  8.51434063]\n",
      "Prediction[19.14433175 20.77568362]\n",
      "Prediction[19.19800848 23.9769338 ]\n",
      "Prediction[23.78294224 20.4422807 ]\n",
      "Prediction[23.9769338  18.55795076]\n",
      "Prediction[45.4434333  34.22130299]\n",
      "Prediction[18.55795076 21.13879416]\n",
      "Prediction[23.9769338  14.30950851]\n",
      "Prediction[ 9.09670833 23.9769338 ]\n",
      "Prediction[14.34389892 16.58506383]\n",
      "Prediction[20.52581587 28.86040675]\n",
      "Prediction[24.00163117 20.77568362]\n",
      "Prediction[29.12414297 25.60333254]\n",
      "Prediction[14.8017823  19.14668755]\n",
      "Prediction[24.00163117 25.15943734]\n",
      "Prediction[ 8.17388427 25.62441865]\n",
      "Prediction[12.68736136 20.13417781]\n",
      "Prediction[21.18750458 15.7097631 ]\n",
      "Prediction[15.33052592 23.5769833 ]\n",
      "Prediction[21.99052288 20.52581587]\n",
      "Prediction[20.52581587 14.96226273]\n",
      "Prediction[21.12890945 45.4434333 ]\n",
      "Prediction[18.55795076 15.67427817]\n",
      "Prediction[24.23704683 19.05345076]\n",
      "Prediction[25.60333254  9.09670833]\n",
      "Prediction[8.64051389 8.01300144]\n",
      "Prediction[14.39237061 12.68736136]\n",
      "Prediction[18.34850001 19.7580053 ]\n",
      "Prediction[18.51439614 15.67427817]\n",
      "Prediction[24.22733389 12.2480569 ]\n",
      "Prediction[19.49479748 21.46717551]\n",
      "Prediction[21.72177995 18.41432796]\n",
      "Prediction[19.7580053  23.37949197]\n",
      "Prediction[21.60408795 23.87241151]\n",
      "Prediction[12.68563597 19.51090927]\n",
      "Prediction[24.23704683 29.12414297]\n",
      "Prediction[23.9769338  22.92126544]\n",
      "Prediction[17.77245902 22.76493039]\n",
      "Prediction[18.51439614 23.61554571]\n",
      "Prediction[23.20307332 15.76801581]\n",
      "Prediction[29.42746436 12.68736136]\n",
      "Prediction[31.19789008 16.2932645 ]\n",
      "Prediction[16.59485925  9.09670833]\n",
      "Prediction[24.36397392 20.77568362]\n",
      "Prediction[10.11048334 29.42746436]\n",
      "Prediction[21.18750458 23.20307332]\n",
      "Prediction[12.68736136 30.27263081]\n",
      "Prediction[ 8.51434063 13.89277627]\n",
      "Prediction[31.19789008 32.23756905]\n",
      "Prediction[25.60333254 24.23704683]\n",
      "Prediction[24.06448526 19.83871014]\n",
      "Prediction[29.42746436 14.34389892]\n",
      "Prediction[13.89277627 19.05345076]\n",
      "Prediction[11.35485214 19.96238373]\n",
      "Prediction[45.4434333  21.68172655]\n",
      "Prediction[ 7.60912381 29.42746436]\n",
      "Prediction[15.7027446  23.78294224]\n",
      "Prediction[19.91257157 11.77880952]\n",
      "Prediction[21.18750458 24.23704683]\n",
      "Prediction[26.83569722 23.54087433]\n",
      "Prediction[17.11280115 23.35320999]\n",
      "Prediction[20.31611522 23.35320999]\n",
      "Prediction[19.91257157 17.11280115]\n",
      "Prediction[12.2480569  19.19800848]\n",
      "Prediction[21.18750458 30.75194614]\n",
      "Prediction[17.11280115 21.13879416]\n",
      "Prediction[23.78294224 45.4434333 ]\n",
      "Prediction[ 8.17388427 17.4381631 ]\n",
      "Prediction[20.43824491 24.06448526]\n",
      "Prediction[23.9769338   7.60912381]\n",
      "Prediction[14.16733203 15.67427817]\n",
      "Prediction[ 8.01300144 12.68736136]\n",
      "Prediction[23.5769833  19.40432666]\n",
      "Prediction[45.40638446 23.5769833 ]\n",
      "Prediction[11.77880952 34.22130299]\n",
      "Prediction[29.12414297 19.62208279]\n",
      "Prediction[21.72177995 20.71009661]\n",
      "Prediction[20.52581587 23.35320999]\n",
      "Prediction[21.18750458 16.2932645 ]\n",
      "Prediction[20.96629441 19.14433175]\n",
      "Prediction[19.7580053  33.83757738]\n",
      "Prediction[ 8.01300144 16.08875339]\n",
      "Prediction[24.36397392 12.14249722]\n",
      "Prediction[19.70493712 30.27263081]\n",
      "Prediction[22.6196434  23.61554571]\n",
      "Prediction[35.14791591 20.77568362]\n",
      "Prediction[19.97697817 15.7097631 ]\n",
      "Prediction[24.22733389 23.87241151]\n",
      "Prediction[30.75194614 22.6196434 ]\n",
      "Prediction[19.62208279 20.49100988]\n",
      "Prediction[27.09973929 22.18369968]\n",
      "Prediction[14.39237061 19.19800848]\n",
      "Prediction[ 9.09670833 34.22130299]\n",
      "Prediction[19.14433175 19.70493712]\n",
      "Prediction[11.35236501 16.08875339]\n",
      "Prediction[22.18369968 21.12854841]\n",
      "Prediction[45.40638446 19.14433175]\n",
      "Prediction[ 7.60912381 15.7027446 ]\n",
      "Prediction[22.92126544 27.62670065]\n",
      "Prediction[23.20307332 21.12854841]\n",
      "Prediction[12.68563597 16.2932645 ]\n",
      "Prediction[18.41432796 25.62441865]\n"
     ]
    }
   ],
   "source": [
    "for i in range(400):\n",
    "    random_index = np.random.randint(1,df_test.shape[0],2)\n",
    "    batch_sample = df_test[df_test.keys()[1:-1]].iloc[random_index].to_numpy()\n",
    "    print(f\"Prediction{predictor.predict(batch_sample)}\")"
   ]
  },
  {
   "cell_type": "code",
   "execution_count": 50,
   "id": "4c2a4e26",
   "metadata": {
    "tags": []
   },
   "outputs": [
    {
     "data": {
      "text/plain": [
       "{'ResponseMetadata': {'RequestId': '77342828-4ac7-4698-86c5-48bb13f17cf0',\n",
       "  'HTTPStatusCode': 200,\n",
       "  'HTTPHeaders': {'x-amzn-requestid': '77342828-4ac7-4698-86c5-48bb13f17cf0',\n",
       "   'content-type': 'application/x-amz-json-1.1',\n",
       "   'content-length': '0',\n",
       "   'date': 'Sun, 05 Feb 2023 18:18:00 GMT'},\n",
       "  'RetryAttempts': 0}}"
      ]
     },
     "execution_count": 50,
     "metadata": {},
     "output_type": "execute_result"
    }
   ],
   "source": [
    "sm_boto3.delete_endpoint(EndpointName=predictor.endpoint_name)"
   ]
  },
  {
   "cell_type": "code",
   "execution_count": null,
   "id": "d3b824e2",
   "metadata": {},
   "outputs": [],
   "source": []
  }
 ],
 "metadata": {
  "instance_type": "ml.t3.medium",
  "kernelspec": {
   "display_name": "Python 3 (Data Science)",
   "language": "python",
   "name": "python3__SAGEMAKER_INTERNAL__arn:aws:sagemaker:us-east-1:081325390199:image/datascience-1.0"
  },
  "language_info": {
   "codemirror_mode": {
    "name": "ipython",
    "version": 3
   },
   "file_extension": ".py",
   "mimetype": "text/x-python",
   "name": "python",
   "nbconvert_exporter": "python",
   "pygments_lexer": "ipython3",
   "version": "3.7.10"
  }
 },
 "nbformat": 4,
 "nbformat_minor": 5
}
